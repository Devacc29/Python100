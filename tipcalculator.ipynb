{
 "cells": [
  {
   "cell_type": "code",
   "execution_count": null,
   "metadata": {},
   "outputs": [],
   "source": [
    "print('Hello'[0])\n",
    "print('Hello'[-1])\n",
    "print('Hello World!'[1:-1])\n",
    "print('Hello World!'[1:])\n",
    "print('Hello World!'[:-1])"
   ]
  },
  {
   "cell_type": "code",
   "execution_count": null,
   "metadata": {},
   "outputs": [],
   "source": [
    "print(type(\"hello\"))\n",
    "print(type(1234))\n",
    "print(type(3.14))\n",
    "print(type(True))"
   ]
  },
  {
   "cell_type": "code",
   "execution_count": 14,
   "metadata": {},
   "outputs": [
    {
     "name": "stdout",
     "output_type": "stream",
     "text": [
      "576\n",
      "No. of letters in your name: 4\n"
     ]
    }
   ],
   "source": [
    "print(int(\"123\") + int(\"453\"))\n",
    "\n",
    "print(\"No. of letters in your name: \" + str(len(input(\"what is your name?\"))))"
   ]
  },
  {
   "cell_type": "code",
   "execution_count": 30,
   "metadata": {},
   "outputs": [
    {
     "name": "stdout",
     "output_type": "stream",
     "text": [
      "Welcome to BMI Calculator!\n",
      "25.71166207529844\n",
      "over weight\n"
     ]
    }
   ],
   "source": [
    "print(\"Welcome to BMI Calculator!\")\n",
    "height = float(input(\"Enter your height in metres\"))\n",
    "weight = float(input(\"Enter your weight in kilograms\"))\n",
    "\n",
    "bmi = weight/(height**2)\n",
    "print(bmi)\n",
    "if(bmi < 18.5):\n",
    "    print(\"Under weight\")\n",
    "elif(bmi <= 18.5 or bmi < 25):\n",
    "    print(\"Healthy weight\")\n",
    "elif(bmi <= 25 or  bmi < 30):\n",
    "    print(\"over weight\")\n",
    "else:\n",
    "    print(\"Obeseee\")\n",
    "\n"
   ]
  }
 ],
 "metadata": {
  "kernelspec": {
   "display_name": "Python 3",
   "language": "python",
   "name": "python3"
  },
  "language_info": {
   "codemirror_mode": {
    "name": "ipython",
    "version": 3
   },
   "file_extension": ".py",
   "mimetype": "text/x-python",
   "name": "python",
   "nbconvert_exporter": "python",
   "pygments_lexer": "ipython3",
   "version": "3.11.1"
  }
 },
 "nbformat": 4,
 "nbformat_minor": 2
}
